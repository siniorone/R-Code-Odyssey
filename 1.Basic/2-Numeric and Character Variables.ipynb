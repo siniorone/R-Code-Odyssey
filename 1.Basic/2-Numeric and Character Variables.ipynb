{
 "cells": [
  {
   "cell_type": "markdown",
   "id": "a6cf9f3c-b452-4203-b490-48d2ef9748c3",
   "metadata": {},
   "source": [
    "# Variables"
   ]
  },
  {
   "cell_type": "markdown",
   "id": "4c629a51-2de4-406f-97d4-fb5023ec0d17",
   "metadata": {},
   "source": [
    "## 1. Numeric variables\n",
    "Numeric variables in R are used to store numerical data, including both integers and floating-point numbers. They are fundamental for performing calculations, statistical analyses, and mathematical operations. \n",
    "\n",
    "**Defining Numeric Variables:**\n",
    "You can define numeric variables in R by simply assigning a numerical value to a variable name. Here's an example related to medicine:\n",
    "\n",
    "```R\n",
    "# Store a patient's age in years as a numeric variable\n",
    "patient_age <- 45\n",
    "```\n",
    "\n",
    "**Operations with Numeric Variables:**\n",
    "Numeric variables can be used in various mathematical operations, such as addition, subtraction, multiplication, and division. For instance, you can calculate a patient's body mass index (BMI) using numeric variables:\n",
    "\n",
    "```R\n",
    "# Calculate BMI for a patient\n",
    "patient_weight_kg <- 70\n",
    "patient_height_m <- 1.75\n",
    "bmi <- patient_weight_kg / (patient_height_m^2)\n",
    "```\n",
    "\n",
    "**Practical Notes:**\n",
    "\n",
    "1. **Units of Measurement:** Always be mindful of the units of measurement when working with numeric variables in the context of biology and medicine. Ensure that your data is consistent with the appropriate units (e.g., kilograms, centimeters, milligrams, etc.) to avoid errors in calculations.\n",
    "\n",
    "2. **Data Validation:** Validate numeric data to prevent errors. For instance, check that patient ages are within a reasonable range (e.g., no negative ages), and ensure that weight and height values are non-zero.\n",
    "\n",
    "3. **Missing Values:** Numeric variables can have missing or undefined values. In R, missing values are represented as `NA`. Handle missing data appropriately in your analyses.\n",
    "\n",
    "4. **Data Transformation:** Numeric variables often require transformation for analysis. For example, you might need to convert measurements from different units or logarithmically transform skewed data.\n",
    "\n",
    "5. **Data Visualization:** Use data visualization tools (e.g., ggplot2) to explore and visualize numeric data, such as creating histograms to understand the distribution of patient ages or scatterplots to examine relationships between variables.\n",
    "\n",
    "6. **Statistical Analysis:** Numeric variables are crucial for statistical analyses in biology and medicine. R offers a wide range of statistical functions and packages for conducting hypothesis tests, regression analyses, and more.\n",
    "\n",
    "7. **Data Privacy:** Be mindful of patient data privacy and confidentiality when working with numeric variables in medical contexts. Follow relevant data protection regulations and guidelines.\n",
    "\n",
    "8. **Reproducibility:** Document your code and analysis steps to ensure reproducibility. It's essential to maintain transparency and allow others to verify your results.\n",
    "\n",
    "Numeric variables are at the core of quantitative analysis in biology and medicine. By understanding how to work with them effectively and responsibly, you can gain valuable insights from your data and contribute to research and healthcare practices."
   ]
  },
  {
   "cell_type": "markdown",
   "id": "b34bda24-7cb0-4025-9a0c-08072ffb87e1",
   "metadata": {},
   "source": [
    "**Exercise 1: Calculate BMI**\n",
    "\n",
    "Calculate the BMI (Body Mass Index) for a patient given their weight in kilograms and height in meters. The formula for BMI is $$BMI = weight (kg) / (height (m))^2$$"
   ]
  },
  {
   "cell_type": "code",
   "execution_count": 1,
   "id": "af8587f4-edb0-4e3f-a4f0-5b2b5b46567e",
   "metadata": {
    "tags": []
   },
   "outputs": [
    {
     "data": {
      "text/html": [
       "23.1481481481481"
      ],
      "text/latex": [
       "23.1481481481481"
      ],
      "text/markdown": [
       "23.1481481481481"
      ],
      "text/plain": [
       "[1] 23.14815"
      ]
     },
     "metadata": {},
     "output_type": "display_data"
    }
   ],
   "source": [
    "# Exercise 1: Calculate BMI\n",
    "# Given patient's weight and height\n",
    "patient_weight_kg <- 75\n",
    "patient_height_m <- 1.80\n",
    "\n",
    "# Calculate BMI\n",
    "bmi <- patient_weight_kg / (patient_height_m^2)\n",
    "\n",
    "# Display the BMI\n",
    "bmi"
   ]
  },
  {
   "cell_type": "markdown",
   "id": "a97126dc-9b26-4780-88c0-eba335ffa5d1",
   "metadata": {},
   "source": [
    "**Exercise 2: Convert Temperature**\n",
    "\n",
    "Convert a temperature from Celsius to Fahrenheit using the formula: $$Fahrenheit = (Celsius * 9/5) + 32$$"
   ]
  },
  {
   "cell_type": "code",
   "execution_count": 2,
   "id": "0d077a83-41d4-41c1-ba62-acae47eb488f",
   "metadata": {
    "tags": []
   },
   "outputs": [
    {
     "data": {
      "text/html": [
       "68"
      ],
      "text/latex": [
       "68"
      ],
      "text/markdown": [
       "68"
      ],
      "text/plain": [
       "[1] 68"
      ]
     },
     "metadata": {},
     "output_type": "display_data"
    }
   ],
   "source": [
    "# Exercise 2: Convert Temperature\n",
    "# Given temperature in Celsius\n",
    "temperature_celsius <- 20\n",
    "\n",
    "# Convert to Fahrenheit\n",
    "temperature_fahrenheit <- (temperature_celsius * 9/5) + 32\n",
    "\n",
    "# Display the temperature in Fahrenheit\n",
    "temperature_fahrenheit"
   ]
  },
  {
   "cell_type": "markdown",
   "id": "7d50481e-383c-4639-bf54-5202662142a3",
   "metadata": {},
   "source": [
    "**Exercise 3: Calculate Dosage**\n",
    "\n",
    "Calculate the dosage of a medication for a patient based on their weight in kilograms and the recommended dosage in milligrams per kilogram (mg/kg)."
   ]
  },
  {
   "cell_type": "code",
   "execution_count": 3,
   "id": "c9cb0f8e-daa2-42a7-bc93-9c746aaa6d62",
   "metadata": {
    "tags": []
   },
   "outputs": [
    {
     "data": {
      "text/html": [
       "600"
      ],
      "text/latex": [
       "600"
      ],
      "text/markdown": [
       "600"
      ],
      "text/plain": [
       "[1] 600"
      ]
     },
     "metadata": {},
     "output_type": "display_data"
    }
   ],
   "source": [
    "# Exercise 3: Calculate Dosage\n",
    "# Given patient's weight and recommended dosage\n",
    "patient_weight_kg <- 60\n",
    "recommended_dosage_mg_kg <- 10\n",
    "\n",
    "# Calculate the medication dosage\n",
    "medication_dosage_mg <- patient_weight_kg * recommended_dosage_mg_kg\n",
    "\n",
    "# Display the medication dosage\n",
    "medication_dosage_mg"
   ]
  },
  {
   "cell_type": "markdown",
   "id": "2e36fd3d-a13a-4abb-b09e-1129668d89d7",
   "metadata": {},
   "source": [
    "**Exercise 4: Calculate Mean and Standard Deviation**\n",
    "\n",
    "Calculate the mean and standard deviation of a dataset representing the cholesterol levels (in mg/dL) of a group of patients."
   ]
  },
  {
   "cell_type": "code",
   "execution_count": 5,
   "id": "ef560855-2146-4f6c-8000-6d74c33f8f5e",
   "metadata": {
    "tags": []
   },
   "outputs": [
    {
     "data": {
      "text/html": [
       "202.5"
      ],
      "text/latex": [
       "202.5"
      ],
      "text/markdown": [
       "202.5"
      ],
      "text/plain": [
       "[1] 202.5"
      ]
     },
     "metadata": {},
     "output_type": "display_data"
    },
    {
     "data": {
      "text/html": [
       "15.1382517704875"
      ],
      "text/latex": [
       "15.1382517704875"
      ],
      "text/markdown": [
       "15.1382517704875"
      ],
      "text/plain": [
       "[1] 15.13825"
      ]
     },
     "metadata": {},
     "output_type": "display_data"
    }
   ],
   "source": [
    "# Exercise 4: Calculate Mean and Standard Deviation\n",
    "# Given cholesterol levels of patients\n",
    "cholesterol_levels <- c(180, 210, 190, 220, 200, 195, 205, 215, 185, 225)\n",
    "\n",
    "# Calculate the mean\n",
    "mean_cholesterol <- mean(cholesterol_levels)\n",
    "\n",
    "# Calculate the standard deviation\n",
    "sd_cholesterol <- sd(cholesterol_levels)\n",
    "\n",
    "# Display the mean and standard deviation\n",
    "mean_cholesterol\n",
    "sd_cholesterol"
   ]
  },
  {
   "cell_type": "markdown",
   "id": "d0670813-b751-4048-b199-b39b8f05539c",
   "metadata": {},
   "source": [
    "## 2. Character variables\n",
    "Character variables in R are used to store text or string data. They are valuable for representing information that consists of words, letters, or other textual characters. In the context of bioinformatics, biology, and medicine, character variables can be used to store various types of textual information. Here's how to work with character variables in R, along with some examples:\n",
    "\n",
    "**Creating Character Variables:**\n",
    "\n",
    "You can create character variables in R by assigning text enclosed in either single (' ') or double (\" \") quotes to a variable name."
   ]
  },
  {
   "cell_type": "code",
   "execution_count": 20,
   "id": "7df7194a-2005-4ae5-88ec-046a0b653d24",
   "metadata": {
    "tags": []
   },
   "outputs": [
    {
     "data": {
      "text/html": [
       "'BRCA1'"
      ],
      "text/latex": [
       "'BRCA1'"
      ],
      "text/markdown": [
       "'BRCA1'"
      ],
      "text/plain": [
       "[1] \"BRCA1\""
      ]
     },
     "metadata": {},
     "output_type": "display_data"
    }
   ],
   "source": [
    "# Creating character variables\n",
    "gene_name <- \"BRCA1\"\n",
    "gene_name"
   ]
  },
  {
   "cell_type": "code",
   "execution_count": 21,
   "id": "04ef63ed-4113-4b0f-998e-e6ba61355fd9",
   "metadata": {
    "tags": []
   },
   "outputs": [
    {
     "data": {
      "text/html": [
       "'John Smith'"
      ],
      "text/latex": [
       "'John Smith'"
      ],
      "text/markdown": [
       "'John Smith'"
      ],
      "text/plain": [
       "[1] \"John Smith\""
      ]
     },
     "metadata": {},
     "output_type": "display_data"
    }
   ],
   "source": [
    "patient_name <- \"John Smith\"\n",
    "patient_name"
   ]
  },
  {
   "cell_type": "code",
   "execution_count": 22,
   "id": "5658e705-aa1d-45e7-b692-f69319cb67d5",
   "metadata": {
    "tags": []
   },
   "outputs": [
    {
     "data": {
      "text/html": [
       "'ATCGCTAGTGGCTA'"
      ],
      "text/latex": [
       "'ATCGCTAGTGGCTA'"
      ],
      "text/markdown": [
       "'ATCGCTAGTGGCTA'"
      ],
      "text/plain": [
       "[1] \"ATCGCTAGTGGCTA\""
      ]
     },
     "metadata": {},
     "output_type": "display_data"
    }
   ],
   "source": [
    "sequence <- \"ATCGCTAGTGGCTA\"\n",
    "sequence"
   ]
  },
  {
   "cell_type": "markdown",
   "id": "cef8c02b-ad8e-4e4f-8e02-9dc2101b2b2a",
   "metadata": {
    "tags": []
   },
   "source": [
    "**Concatenation:**\n",
    "\n",
    "You can concatenate (combine) character variables or strings using the `paste()` function."
   ]
  },
  {
   "cell_type": "code",
   "execution_count": 23,
   "id": "209f3ace-9c16-47ae-acef-9a54cc0fac1c",
   "metadata": {
    "tags": []
   },
   "outputs": [
    {
     "data": {
      "text/html": [
       "'John Smith'"
      ],
      "text/latex": [
       "'John Smith'"
      ],
      "text/markdown": [
       "'John Smith'"
      ],
      "text/plain": [
       "[1] \"John Smith\""
      ]
     },
     "metadata": {},
     "output_type": "display_data"
    }
   ],
   "source": [
    "# Concatenating character variables\n",
    "full_name <- paste(\"John\", \"Smith\")\n",
    "full_name"
   ]
  },
  {
   "cell_type": "code",
   "execution_count": 24,
   "id": "db0bcb2d-d28e-41d3-9820-aabdf3352cd9",
   "metadata": {
    "tags": []
   },
   "outputs": [
    {
     "data": {
      "text/html": [
       "'Gene: BRCA1 Sequence: ATCGCTAGTGGCTA'"
      ],
      "text/latex": [
       "'Gene: BRCA1 Sequence: ATCGCTAGTGGCTA'"
      ],
      "text/markdown": [
       "'Gene: BRCA1 Sequence: ATCGCTAGTGGCTA'"
      ],
      "text/plain": [
       "[1] \"Gene: BRCA1 Sequence: ATCGCTAGTGGCTA\""
      ]
     },
     "metadata": {},
     "output_type": "display_data"
    }
   ],
   "source": [
    "sequence_info <- paste(\"Gene:\", gene_name, \"Sequence:\", sequence)\n",
    "sequence_info"
   ]
  },
  {
   "cell_type": "markdown",
   "id": "649e3e91-676f-4fa7-9967-22ee682eedb5",
   "metadata": {},
   "source": [
    "**Subsetting and Manipulation:**\n",
    "* **Subsetting Character Variables:**\n",
    "\n",
    "The `substr()` function in R is used to extract a substring from a character vector (string). It allows you to specify the starting position and the length of the substring you want to extract. Here's the syntax for `substr()`:\n",
    "\n",
    "```R\n",
    "substr(x, start, stop)\n",
    "```\n",
    "\n",
    "- `x`: The input character vector or string from which you want to extract a substring.\n",
    "- `start`: The position (index) at which you want to start extracting characters. It can be an integer or a vector of integers indicating the starting positions.\n",
    "- `stop`: The position (index) at which you want to stop extracting characters. It can be an integer or a vector of integers indicating the stopping positions.\n",
    "\n",
    "**Note:** \n",
    "- If `start` and `stop` are both integers, `substr()` extracts characters starting from the `start` position up to and including the character at the `stop` position.\n",
    "- If `start` is a vector and `stop` is a single integer, `substr()` extracts characters starting from each position specified in the `start` vector up to the character at the `stop` position.\n",
    "- If `start` is a single integer and `stop` is a vector, `substr()` extracts characters starting from the `start` position up to and including each character at the positions specified in the `stop` vector.\n",
    "- If both `start` and `stop` are vectors, `substr()` extracts characters for each pair of corresponding positions in `start` and `stop`.\n",
    "\n",
    "**Examples:**\n",
    "\n",
    "```R\n",
    "# Extract the first character from a string\n",
    "substr(\"Hello\", 1, 1)  # Returns \"H\"\n",
    "\n",
    "# Extract a range of characters from a string\n",
    "substr(\"Hello, World!\", 1, 5)  # Returns \"Hello\"\n",
    "\n",
    "# Extract characters starting from position 3 to the end\n",
    "substr(\"Data Science\", 3, nchar(\"Data Science\"))  # Returns \"ta Science\"\n",
    "```\n",
    "\n",
    "`substr()` is commonly used for extracting specific portions of text data, such as substrings within a larger text, gene sequences, or other forms of textual data."
   ]
  },
  {
   "cell_type": "code",
   "execution_count": 38,
   "id": "4d11d1c6-d821-4e94-ab56-4fa04fd3530a",
   "metadata": {
    "tags": []
   },
   "outputs": [
    {
     "data": {
      "text/html": [
       "'B'"
      ],
      "text/latex": [
       "'B'"
      ],
      "text/markdown": [
       "'B'"
      ],
      "text/plain": [
       "[1] \"B\""
      ]
     },
     "metadata": {},
     "output_type": "display_data"
    }
   ],
   "source": [
    "# Sample character variable\n",
    "gene_name <- \"BRCA1\"\n",
    "\n",
    "# Accessing specific characters (e.g., first character)\n",
    "first_character <- substr(gene_name, 1, 1)\n",
    "first_character"
   ]
  },
  {
   "cell_type": "code",
   "execution_count": 40,
   "id": "79846b05-04a7-4fbb-839d-4e949d494c4b",
   "metadata": {
    "tags": []
   },
   "outputs": [
    {
     "data": {
      "text/html": [
       "'R'"
      ],
      "text/latex": [
       "'R'"
      ],
      "text/markdown": [
       "'R'"
      ],
      "text/plain": [
       "[1] \"R\""
      ]
     },
     "metadata": {},
     "output_type": "display_data"
    }
   ],
   "source": [
    "second_character <- substr(gene_name, 2, 2)\n",
    "second_character"
   ]
  },
  {
   "cell_type": "code",
   "execution_count": 41,
   "id": "4996707c-5c1c-4556-a742-8984301d5954",
   "metadata": {
    "tags": []
   },
   "outputs": [
    {
     "data": {
      "text/html": [
       "'RCA'"
      ],
      "text/latex": [
       "'RCA'"
      ],
      "text/markdown": [
       "'RCA'"
      ],
      "text/plain": [
       "[1] \"RCA\""
      ]
     },
     "metadata": {},
     "output_type": "display_data"
    }
   ],
   "source": [
    "# Accessing a range of characters\n",
    "characters_2_to_4 <- substr(gene_name, 2, 4)\n",
    "characters_2_to_4"
   ]
  },
  {
   "cell_type": "code",
   "execution_count": 18,
   "id": "2341ea21-ea97-4f75-b12d-4c75ae430f63",
   "metadata": {
    "tags": []
   },
   "outputs": [
    {
     "data": {
      "text/html": [
       "'JOHN SMITH'"
      ],
      "text/latex": [
       "'JOHN SMITH'"
      ],
      "text/markdown": [
       "'JOHN SMITH'"
      ],
      "text/plain": [
       "[1] \"JOHN SMITH\""
      ]
     },
     "metadata": {},
     "output_type": "display_data"
    }
   ],
   "source": [
    "# Manipulating character variables\n",
    "uppercase_name <- toupper(patient_name)\n",
    "uppercase_name"
   ]
  },
  {
   "cell_type": "markdown",
   "id": "5af5d018-027f-4cad-8d86-1e30f145ac6d",
   "metadata": {},
   "source": [
    "* **Changing Case:**\n",
    "You can change the case of characters within a string using functions like `toupper()` (convert to uppercase) and `tolower()` (convert to lowercase)."
   ]
  },
  {
   "cell_type": "code",
   "execution_count": 43,
   "id": "824e8c7a-5e87-4763-9e77-f6cfd548d937",
   "metadata": {
    "tags": []
   },
   "outputs": [
    {
     "data": {
      "text/html": [
       "'BRCA1'"
      ],
      "text/latex": [
       "'BRCA1'"
      ],
      "text/markdown": [
       "'BRCA1'"
      ],
      "text/plain": [
       "[1] \"BRCA1\""
      ]
     },
     "metadata": {},
     "output_type": "display_data"
    }
   ],
   "source": [
    "# Converting to uppercase\n",
    "upper_gene_name <- toupper(gene_name)\n",
    "upper_gene_name"
   ]
  },
  {
   "cell_type": "code",
   "execution_count": 44,
   "id": "143b0ece-7fa8-4ff8-9d9e-2ca3ee294202",
   "metadata": {
    "tags": []
   },
   "outputs": [
    {
     "data": {
      "text/html": [
       "'brca1'"
      ],
      "text/latex": [
       "'brca1'"
      ],
      "text/markdown": [
       "'brca1'"
      ],
      "text/plain": [
       "[1] \"brca1\""
      ]
     },
     "metadata": {},
     "output_type": "display_data"
    }
   ],
   "source": [
    "# Converting to lowercase\n",
    "lower_gene_name <- tolower(gene_name)\n",
    "lower_gene_name"
   ]
  },
  {
   "cell_type": "markdown",
   "id": "1d2403bf-5a2a-4481-9d52-f67bee93ca55",
   "metadata": {},
   "source": [
    "* **Removing Whitespace:** You can remove leading and trailing whitespace (spaces, tabs, etc.) from a string using the `trimws()` function."
   ]
  },
  {
   "cell_type": "code",
   "execution_count": 45,
   "id": "6254dd35-4f13-45cb-aa1c-55a50a684d5b",
   "metadata": {
    "tags": []
   },
   "outputs": [
    {
     "data": {
      "text/html": [
       "'Hello, World!'"
      ],
      "text/latex": [
       "'Hello, World!'"
      ],
      "text/markdown": [
       "'Hello, World!'"
      ],
      "text/plain": [
       "[1] \"Hello, World!\""
      ]
     },
     "metadata": {},
     "output_type": "display_data"
    }
   ],
   "source": [
    "# Removing leading and trailing whitespace\n",
    "text <- \"  Hello, World!   \"\n",
    "cleaned_text <- trimws(text)  \n",
    "cleaned_text"
   ]
  },
  {
   "cell_type": "markdown",
   "id": "97f4d791-27b3-40b8-8c3e-581829b171a0",
   "metadata": {},
   "source": [
    "* **Substitution:** You can replace specific characters or substrings within a string using functions like `gsub()` (global substitution)."
   ]
  },
  {
   "cell_type": "code",
   "execution_count": 47,
   "id": "e6d9e236-d854-4c08-b90f-ff01075cafe9",
   "metadata": {
    "tags": []
   },
   "outputs": [
    {
     "data": {
      "text/html": [
       "'fruit banana fruit cherry'"
      ],
      "text/latex": [
       "'fruit banana fruit cherry'"
      ],
      "text/markdown": [
       "'fruit banana fruit cherry'"
      ],
      "text/plain": [
       "[1] \"fruit banana fruit cherry\""
      ]
     },
     "metadata": {},
     "output_type": "display_data"
    }
   ],
   "source": [
    "# Substituting characters\n",
    "text <- \"apple banana apple cherry\"\n",
    "replaced_text <- gsub(\"apple\", \"fruit\", text)  \n",
    "replaced_text"
   ]
  },
  {
   "cell_type": "markdown",
   "id": "3cbe862e-be31-4728-a994-a59d5f4f3f8d",
   "metadata": {},
   "source": [
    "* **Splitting and Joining:**\n",
    "You can split a string into multiple substrings using the `strsplit()` function and join multiple strings into one using `paste()`."
   ]
  },
  {
   "cell_type": "code",
   "execution_count": 48,
   "id": "bd2dd466-f24c-4cf0-86ce-8e658f77f6fd",
   "metadata": {
    "tags": []
   },
   "outputs": [
    {
     "data": {
      "text/html": [
       "<ol>\n",
       "\t<li><ol class=list-inline>\n",
       "\t<li>'apple'</li>\n",
       "\t<li>'banana'</li>\n",
       "\t<li>'cherry'</li>\n",
       "</ol>\n",
       "</li>\n",
       "</ol>\n"
      ],
      "text/latex": [
       "\\begin{enumerate}\n",
       "\\item \\begin{enumerate*}\n",
       "\\item 'apple'\n",
       "\\item 'banana'\n",
       "\\item 'cherry'\n",
       "\\end{enumerate*}\n",
       "\n",
       "\\end{enumerate}\n"
      ],
      "text/markdown": [
       "1. 1. 'apple'\n",
       "2. 'banana'\n",
       "3. 'cherry'\n",
       "\n",
       "\n",
       "\n",
       "\n",
       "\n"
      ],
      "text/plain": [
       "[[1]]\n",
       "[1] \"apple\"  \"banana\" \"cherry\"\n"
      ]
     },
     "metadata": {},
     "output_type": "display_data"
    }
   ],
   "source": [
    "# Splitting a string\n",
    "text <- \"apple,banana,cherry\"\n",
    "split_text <- strsplit(text, \",\")\n",
    "split_text"
   ]
  },
  {
   "cell_type": "code",
   "execution_count": 49,
   "id": "1b573455-1550-4654-bcb7-87912bfd109c",
   "metadata": {
    "tags": []
   },
   "outputs": [
    {
     "data": {
      "text/html": [
       "'apple,banana,cherry'"
      ],
      "text/latex": [
       "'apple,banana,cherry'"
      ],
      "text/markdown": [
       "'apple,banana,cherry'"
      ],
      "text/plain": [
       "[1] \"apple,banana,cherry\""
      ]
     },
     "metadata": {},
     "output_type": "display_data"
    }
   ],
   "source": [
    "# Joining strings\n",
    "words <- c(\"apple\", \"banana\", \"cherry\")\n",
    "joined_text <- paste(words, collapse = \",\")\n",
    "joined_text"
   ]
  },
  {
   "cell_type": "markdown",
   "id": "1ba30043-af16-4cf8-9820-90c4857735f4",
   "metadata": {},
   "source": [
    "R provides packages like *stringr* and *stringi* that offer extensive functions for advanced string manipulation and regular expressions."
   ]
  },
  {
   "cell_type": "markdown",
   "id": "fdbf0f0f-72b1-4b6f-9d4c-43e06a2e5bc8",
   "metadata": {},
   "source": [
    "**String Length:**\n",
    "To find the length of a character variable (the number of characters in the string), you can use the `nchar()` function."
   ]
  },
  {
   "cell_type": "code",
   "execution_count": 51,
   "id": "fa73c019-3e31-4f0e-8400-08edc7cdb815",
   "metadata": {
    "tags": []
   },
   "outputs": [
    {
     "data": {
      "text/html": [
       "'John Smith'"
      ],
      "text/latex": [
       "'John Smith'"
      ],
      "text/markdown": [
       "'John Smith'"
      ],
      "text/plain": [
       "[1] \"John Smith\""
      ]
     },
     "metadata": {},
     "output_type": "display_data"
    }
   ],
   "source": [
    "patient_name"
   ]
  },
  {
   "cell_type": "code",
   "execution_count": 52,
   "id": "053c369c-3f1f-454d-892e-e90336f146dd",
   "metadata": {
    "tags": []
   },
   "outputs": [
    {
     "data": {
      "text/html": [
       "10"
      ],
      "text/latex": [
       "10"
      ],
      "text/markdown": [
       "10"
      ],
      "text/plain": [
       "[1] 10"
      ]
     },
     "metadata": {},
     "output_type": "display_data"
    }
   ],
   "source": [
    "# Finding the length of a character variable\n",
    "name_length <- nchar(patient_name)\n",
    "name_length"
   ]
  },
  {
   "cell_type": "markdown",
   "id": "fc4ee744-bc2f-40d0-b0f4-377ad26ddb48",
   "metadata": {},
   "source": [
    "**Comparison:**\n",
    "You can compare character variables using operators like `==` (equal to) or `!=` (not equal to) to check if two strings are the same."
   ]
  },
  {
   "cell_type": "code",
   "execution_count": 53,
   "id": "c0b6566a-3ab1-4888-9a18-18e7556e7859",
   "metadata": {
    "tags": []
   },
   "outputs": [
    {
     "data": {
      "text/html": [
       "TRUE"
      ],
      "text/latex": [
       "TRUE"
      ],
      "text/markdown": [
       "TRUE"
      ],
      "text/plain": [
       "[1] TRUE"
      ]
     },
     "metadata": {},
     "output_type": "display_data"
    }
   ],
   "source": [
    "# Comparing character variables\n",
    "is_john <- patient_name == \"John Smith\"\n",
    "is_john"
   ]
  },
  {
   "cell_type": "markdown",
   "id": "ceb6782f-cf2b-421c-a861-3cfe14343d8a",
   "metadata": {},
   "source": [
    "**String Manipulation Functions:**"
   ]
  },
  {
   "cell_type": "markdown",
   "id": "0d9284e5-622b-4257-8f9c-c2460c35ad06",
   "metadata": {},
   "source": [
    "R provides a wide range of string manipulation functions through packages like `stringr` and `gsub()`. These functions allow you to perform tasks like pattern matching, substitution, and more."
   ]
  },
  {
   "cell_type": "code",
   "execution_count": 55,
   "id": "d11c1217-32be-4a6d-81bf-15034cf4908a",
   "metadata": {
    "tags": []
   },
   "outputs": [
    {
     "data": {
      "text/html": [
       "'John'"
      ],
      "text/latex": [
       "'John'"
      ],
      "text/markdown": [
       "'John'"
      ],
      "text/plain": [
       "[1] \"John\""
      ]
     },
     "metadata": {},
     "output_type": "display_data"
    }
   ],
   "source": [
    "# Using string manipulation functions\n",
    "library(stringr)\n",
    "first_name <- str_extract(patient_name, \"[A-Z][a-z]+\")\n",
    "first_name"
   ]
  },
  {
   "cell_type": "markdown",
   "id": "e361e175-788e-45da-9b29-2dea888878d7",
   "metadata": {},
   "source": [
    "Here's a practical example of working with character variables in R in the context of bioinformatics. In this example, we'll manipulate gene names, extract specific information, and perform some string operations.\n",
    "\n",
    "**Objective:** Given a list of gene names, we want to extract the initials of each gene name and count how many gene names start with each letter of the alphabet.\n"
   ]
  },
  {
   "cell_type": "code",
   "execution_count": 56,
   "id": "e06df313-007d-401b-8626-44f424cfd024",
   "metadata": {
    "tags": []
   },
   "outputs": [
    {
     "name": "stdout",
     "output_type": "stream",
     "text": [
      "Letter 'A': 1\n",
      "Letter 'B': 2\n",
      "Letter 'C': 0\n",
      "Letter 'D': 0\n",
      "Letter 'E': 1\n",
      "Letter 'F': 0\n",
      "Letter 'G': 0\n",
      "Letter 'H': 0\n",
      "Letter 'I': 0\n",
      "Letter 'J': 0\n",
      "Letter 'K': 1\n",
      "Letter 'L': 0\n",
      "Letter 'M': 0\n",
      "Letter 'N': 0\n",
      "Letter 'O': 0\n",
      "Letter 'P': 1\n",
      "Letter 'Q': 0\n",
      "Letter 'R': 0\n",
      "Letter 'S': 1\n",
      "Letter 'T': 1\n",
      "Letter 'U': 0\n",
      "Letter 'V': 1\n",
      "Letter 'W': 0\n",
      "Letter 'X': 0\n",
      "Letter 'Y': 0\n",
      "Letter 'Z': 0\n"
     ]
    }
   ],
   "source": [
    "# Sample list of gene names\n",
    "gene_names <- c(\"BRCA1\", \"TP53\", \"EGFR\", \"PTEN\", \"KRAS\", \"AKT1\", \"BRAF\", \"SMAD4\", \"VEGFA\")\n",
    "\n",
    "# Initialize a vector to count gene names starting with each letter\n",
    "letter_counts <- numeric(26)\n",
    "\n",
    "# Loop through each gene name\n",
    "for (gene_name in gene_names) {\n",
    "  # Extract the first letter of the gene name\n",
    "  initial <- substr(gene_name, 1, 1)\n",
    "  \n",
    "  # Convert the initial to uppercase (if not already)\n",
    "  initial <- toupper(initial)\n",
    "  \n",
    "  # Convert the initial to a numeric code (A=1, B=2, ..., Z=26)\n",
    "  initial_code <- as.numeric(charToRaw(initial)) - as.numeric(charToRaw(\"A\")) + 1\n",
    "  \n",
    "  # Increment the count for the corresponding letter\n",
    "  letter_counts[initial_code] <- letter_counts[initial_code] + 1\n",
    "}\n",
    "\n",
    "# Display the counts for each letter\n",
    "for (i in 1:26) {\n",
    "  cat(paste0(\"Letter '\", rawToChar(as.raw(i + as.numeric(charToRaw(\"A\")) - 1)), \"': \", letter_counts[i], \"\\n\"))\n",
    "}\n"
   ]
  },
  {
   "cell_type": "markdown",
   "id": "6b7f9b75-ecf5-4fb4-a8bc-a3a266f527f0",
   "metadata": {},
   "source": [
    "**Explanation:**\n",
    "- We start with a list of gene names stored in the `gene_names` vector.\n",
    "- We initialize a numeric vector called `letter_counts` with 26 elements, one for each letter of the alphabet.\n",
    "- We loop through each gene name, extract the first letter, convert it to uppercase (to handle case insensitivity), and then convert it to a numeric code based on its position in the alphabet.\n",
    "- We increment the count for the corresponding letter in the `letter_counts` vector.\n",
    "- Finally, we display the counts for each letter of the alphabet.\n",
    "\n",
    "This practical example demonstrates how character variables can be used to manipulate and extract information from gene names, which is a common task in bioinformatics and biology."
   ]
  },
  {
   "cell_type": "markdown",
   "id": "c2f5021c-063b-407e-8e39-ffa75940d01f",
   "metadata": {},
   "source": [
    "### Inspecting Variables in R"
   ]
  },
  {
   "cell_type": "markdown",
   "id": "85b48658-f1bb-43f6-b119-4076400da958",
   "metadata": {},
   "source": [
    "In R, you can identify the type, size, and memory usage of a variable using various functions and techniques. Here's how you can do it:\n",
    "\n",
    "**1. Variable Type:**\n",
    "   - To identify the type of a variable, you can use the `class()` function. It returns the class or data type of the object.\n",
    "\n",
    "   ```R\n",
    "   # Check the data type of a variable\n",
    "   x <- 5\n",
    "   class(x)  # Returns \"numeric\"\n",
    "\n",
    "   y <- \"Hello, World!\"\n",
    "   class(y)  # Returns \"character\"\n",
    "   ```\n",
    "\n",
    "**2. Variable Size:**\n",
    "   - To determine the size of a variable in terms of memory usage, you can use the `object.size()` function. It returns the size of the object in bytes.\n",
    "\n",
    "   ```R\n",
    "   # Check the memory size of a variable\n",
    "   z <- c(1, 2, 3, 4, 5)\n",
    "   object.size(z)  # Returns the size in bytes\n",
    "   ```\n",
    "\n",
    "   Keep in mind that the size reported by `object.size()` includes the memory used not only by the variable itself but also by its associated attributes.\n",
    "\n",
    "**3. Memory Identification:**\n",
    "   - To identify the memory location (address) of a variable, you can use the `pryr::address()` function from the `pryr` package.\n",
    "\n",
    "   ```R\n",
    "   # Install and load the pryr package\n",
    "   install.packages(\"pryr\")\n",
    "   library(pryr)\n",
    "\n",
    "   # Get the memory address of a variable\n",
    "   memory_address <- address(z)\n",
    "   ```\n",
    "\n",
    "   Note that the memory address is a hexadecimal value that represents the location of the object in memory. It can be useful for advanced debugging and profiling but is not commonly needed for routine programming tasks.\n",
    "\n",
    "These functions allow you to inspect and gather information about the type, size, and memory identification of variables in R. Understanding the memory usage of variables can be important for optimizing your code, especially when dealing with large datasets or objects."
   ]
  },
  {
   "cell_type": "code",
   "execution_count": 57,
   "id": "ad79a8f6-4c27-4bcb-9ab9-789340a612c5",
   "metadata": {
    "tags": []
   },
   "outputs": [
    {
     "data": {
      "text/html": [
       "'John Smith'"
      ],
      "text/latex": [
       "'John Smith'"
      ],
      "text/markdown": [
       "'John Smith'"
      ],
      "text/plain": [
       "[1] \"John Smith\""
      ]
     },
     "metadata": {},
     "output_type": "display_data"
    }
   ],
   "source": [
    "patient_name"
   ]
  },
  {
   "cell_type": "code",
   "execution_count": 58,
   "id": "e269245d-1980-444a-998f-b4c5efc02885",
   "metadata": {
    "tags": []
   },
   "outputs": [
    {
     "data": {
      "text/html": [
       "'character'"
      ],
      "text/latex": [
       "'character'"
      ],
      "text/markdown": [
       "'character'"
      ],
      "text/plain": [
       "[1] \"character\""
      ]
     },
     "metadata": {},
     "output_type": "display_data"
    }
   ],
   "source": [
    "class(patient_name)"
   ]
  },
  {
   "cell_type": "code",
   "execution_count": 59,
   "id": "90922be7-03c4-43e1-a4e4-a50439923521",
   "metadata": {
    "tags": []
   },
   "outputs": [
    {
     "data": {
      "text/plain": [
       "120 bytes"
      ]
     },
     "metadata": {},
     "output_type": "display_data"
    }
   ],
   "source": [
    "object.size(patient_name)"
   ]
  },
  {
   "cell_type": "markdown",
   "id": "6a8aec7a-19aa-4a7a-8c90-ef6d7cd04074",
   "metadata": {},
   "source": [
    "### Why Single Characters in R Consume 112 Bytes: Understanding Memory Overhead\n",
    "In R, it may seem counterintuitive that a single character consumes 112 bytes of memory. However, this memory usage is not solely attributed to the character itself but includes the overhead associated with R's internal data structures and memory management. Let me explain why a single character typically occupies 112 bytes in R:\n",
    "\n",
    "1. **Character Encoding:** R uses a 32-bit encoding for character data. This means that each character is stored as a 32-bit (4-byte) integer in memory, even though most characters can be represented in 8 bits (1 byte). This encoding ensures compatibility with a wide range of character sets and languages.\n",
    "\n",
    "2. **Internal Structure:** R stores character vectors as a sequence of individual characters, each represented by a 32-bit integer. This requires additional memory for indexing, metadata, and pointers to maintain the integrity and structure of the vector.\n",
    "\n",
    "3. **Memory Management Overhead:** R manages memory dynamically, and this involves overhead to keep track of allocated memory, deallocate memory when it's no longer needed, and ensure memory safety. This overhead is part of the memory consumption reported by `object.size()`.\n",
    "\n",
    "4. **Vectorization:** R is designed to work with vectorized operations, and this design choice impacts memory usage. Even for single characters, R often allocates memory in chunks or vectors to optimize performance. These chunks may contain more than one character.\n",
    "\n",
    "Here's an example to illustrate the memory usage of single characters in R:\n",
    "\n",
    "```R\n",
    "# Create a single character\n",
    "char_var <- \"A\"\n",
    "\n",
    "# Check the memory size of the character variable\n",
    "size_in_bytes <- object.size(char_var)\n",
    "cat(\"Size in bytes:\", size_in_bytes, \"\\n\")\n",
    "```\n",
    "\n",
    "The reported memory usage is typically around 112 bytes for a single character, as you mentioned.\n",
    "\n",
    "While it may seem inefficient, this memory usage is a trade-off for R's flexibility and robust support for character encoding and manipulation. In practice, the memory overhead of a single character is usually not a significant concern. However, if you need to work with a large number of characters in a memory-intensive application, you might consider more memory-efficient representations or data structures.\n"
   ]
  },
  {
   "cell_type": "code",
   "execution_count": 61,
   "id": "1ed102c5-bb80-40ff-9c35-e8336269a6f5",
   "metadata": {
    "tags": []
   },
   "outputs": [
    {
     "data": {
      "text/plain": [
       "112 bytes"
      ]
     },
     "metadata": {},
     "output_type": "display_data"
    }
   ],
   "source": [
    "object.size(\"A\")"
   ]
  },
  {
   "cell_type": "code",
   "execution_count": 62,
   "id": "f27324cb-c97c-4ea3-b4d6-9c82342d840a",
   "metadata": {
    "tags": []
   },
   "outputs": [
    {
     "data": {
      "text/plain": [
       "112 bytes"
      ]
     },
     "metadata": {},
     "output_type": "display_data"
    }
   ],
   "source": [
    "object.size(\"AB\")"
   ]
  },
  {
   "cell_type": "code",
   "execution_count": 63,
   "id": "e67b687f-434c-436d-9d08-2d31e065db37",
   "metadata": {
    "tags": []
   },
   "outputs": [
    {
     "data": {
      "text/plain": [
       "112 bytes"
      ]
     },
     "metadata": {},
     "output_type": "display_data"
    }
   ],
   "source": [
    "object.size(\"ABC\")"
   ]
  },
  {
   "cell_type": "code",
   "execution_count": 68,
   "id": "af9cce5a-6549-4b6f-8ed0-0fe02448de63",
   "metadata": {
    "tags": []
   },
   "outputs": [
    {
     "data": {
      "text/plain": [
       "112 bytes"
      ]
     },
     "metadata": {},
     "output_type": "display_data"
    }
   ],
   "source": [
    "object.size(\"ABCDEFG\")"
   ]
  },
  {
   "cell_type": "code",
   "execution_count": 69,
   "id": "29c1f8ad-1687-4b10-b1e9-4558b1dc40db",
   "metadata": {
    "tags": []
   },
   "outputs": [
    {
     "data": {
      "text/plain": [
       "120 bytes"
      ]
     },
     "metadata": {},
     "output_type": "display_data"
    }
   ],
   "source": [
    "object.size(\"ACDEFGH\")"
   ]
  },
  {
   "cell_type": "code",
   "execution_count": 74,
   "id": "8a6b91ee-7b61-4f2d-b1ba-885e944492c2",
   "metadata": {
    "tags": []
   },
   "outputs": [
    {
     "data": {
      "text/plain": [
       "120 bytes"
      ]
     },
     "metadata": {},
     "output_type": "display_data"
    }
   ],
   "source": [
    "object.size(\"ABCDEFGHIJKLMNO\")"
   ]
  },
  {
   "cell_type": "code",
   "execution_count": 82,
   "id": "55acaeda-3135-4825-be1d-f79eaf5f1067",
   "metadata": {
    "tags": []
   },
   "outputs": [
    {
     "data": {
      "text/plain": [
       "136 bytes"
      ]
     },
     "metadata": {},
     "output_type": "display_data"
    }
   ],
   "source": [
    "object.size(\"ABCDEFGHIJKLMNOQ\")"
   ]
  },
  {
   "cell_type": "code",
   "execution_count": 96,
   "id": "dda145ed-b8d3-4c3f-8476-94de610cd6cc",
   "metadata": {
    "tags": []
   },
   "outputs": [
    {
     "data": {
      "text/plain": [
       "56 bytes"
      ]
     },
     "metadata": {},
     "output_type": "display_data"
    }
   ],
   "source": [
    "object.size(1)"
   ]
  },
  {
   "cell_type": "code",
   "execution_count": 83,
   "id": "2b594d5f-ae74-486a-9390-01963e22fbfb",
   "metadata": {
    "tags": []
   },
   "outputs": [
    {
     "data": {
      "text/html": [
       "'character'"
      ],
      "text/latex": [
       "'character'"
      ],
      "text/markdown": [
       "'character'"
      ],
      "text/plain": [
       "[1] \"character\""
      ]
     },
     "metadata": {},
     "output_type": "display_data"
    }
   ],
   "source": [
    "class(\"ABCDEFGHIJKLMNOQ\")"
   ]
  },
  {
   "cell_type": "markdown",
   "id": "47f8e9ff-f07f-4dc0-9af2-b25c0a6f1452",
   "metadata": {},
   "source": [
    "### Understanding Object Size in R for Numeric Values: Fixed at 56 Bytes\n",
    "\n",
    "The object size in R for numeric values is typically fixed at 56 bytes, regardless of the magnitude of the number. This fixed size is a characteristic of how R internally represents numeric data, and it's not influenced by the size of the number itself.\n",
    "\n",
    "In R, numeric values are typically stored as double-precision floating-point numbers (commonly referred to as \"doubles\"). A double-precision number requires 8 bytes of memory to store. However, the reported object size in R for numeric values is larger than 8 bytes because of additional memory overhead and attributes associated with the numeric object.\n",
    "\n",
    "The fixed object size of 56 bytes for numeric values includes:\n",
    "\n",
    "1. The actual numeric value, which is stored as a double-precision floating-point number (8 bytes).\n",
    "2. Additional memory overhead for the object's structure and attributes.\n",
    "\n",
    "This fixed object size is an implementation detail of R and is designed to ensure efficient memory management and compatibility with various operations and data structures in R.\n",
    "\n",
    "Regardless of whether you have a small or large numeric value, the reported object size will typically remain at 56 bytes. If you need to optimize memory usage for very large datasets of numeric values, you may consider using specialized data structures or packages designed for that purpose."
   ]
  },
  {
   "cell_type": "code",
   "execution_count": 97,
   "id": "a9c273c1-c02c-4b11-a1bd-75ed24a977ae",
   "metadata": {
    "tags": []
   },
   "outputs": [
    {
     "data": {
      "text/plain": [
       "56 bytes"
      ]
     },
     "metadata": {},
     "output_type": "display_data"
    }
   ],
   "source": [
    "object.size(10)"
   ]
  },
  {
   "cell_type": "code",
   "execution_count": 98,
   "id": "2d580251-6858-4ae4-9af4-5ba24acf2de9",
   "metadata": {
    "tags": []
   },
   "outputs": [
    {
     "data": {
      "text/plain": [
       "56 bytes"
      ]
     },
     "metadata": {},
     "output_type": "display_data"
    }
   ],
   "source": [
    "object.size(10000)"
   ]
  },
  {
   "cell_type": "code",
   "execution_count": 99,
   "id": "776ef906-37e0-41ae-b9c9-2247190969c1",
   "metadata": {
    "tags": []
   },
   "outputs": [
    {
     "data": {
      "text/plain": [
       "56 bytes"
      ]
     },
     "metadata": {},
     "output_type": "display_data"
    }
   ],
   "source": [
    "object.size(1000000)"
   ]
  },
  {
   "cell_type": "code",
   "execution_count": 104,
   "id": "aa57fed1-61c6-4240-985e-f028725390b3",
   "metadata": {
    "tags": []
   },
   "outputs": [
    {
     "data": {
      "text/plain": [
       "56 bytes"
      ]
     },
     "metadata": {},
     "output_type": "display_data"
    }
   ],
   "source": [
    "object.size(10^10000000000000000000)"
   ]
  },
  {
   "cell_type": "code",
   "execution_count": 84,
   "id": "012f1169-7b04-4077-bc6f-d4bd250ab002",
   "metadata": {
    "tags": []
   },
   "outputs": [
    {
     "data": {
      "text/html": [
       "'numeric'"
      ],
      "text/latex": [
       "'numeric'"
      ],
      "text/markdown": [
       "'numeric'"
      ],
      "text/plain": [
       "[1] \"numeric\""
      ]
     },
     "metadata": {},
     "output_type": "display_data"
    }
   ],
   "source": [
    "class(2020)"
   ]
  },
  {
   "cell_type": "code",
   "execution_count": 85,
   "id": "b6eab4ac-37d5-4dde-94a8-4ec76ba2cad8",
   "metadata": {
    "tags": []
   },
   "outputs": [
    {
     "data": {
      "text/html": [
       "'character'"
      ],
      "text/latex": [
       "'character'"
      ],
      "text/markdown": [
       "'character'"
      ],
      "text/plain": [
       "[1] \"character\""
      ]
     },
     "metadata": {},
     "output_type": "display_data"
    }
   ],
   "source": [
    "class(\"2020\")"
   ]
  },
  {
   "cell_type": "code",
   "execution_count": 89,
   "id": "bb8e84a4-5351-49e9-85a4-1ede7de10284",
   "metadata": {
    "tags": []
   },
   "outputs": [
    {
     "data": {
      "text/html": [
       "'character'"
      ],
      "text/latex": [
       "'character'"
      ],
      "text/markdown": [
       "'character'"
      ],
      "text/plain": [
       "[1] \"character\""
      ]
     },
     "metadata": {},
     "output_type": "display_data"
    }
   ],
   "source": [
    "class(as.character(2020))"
   ]
  },
  {
   "cell_type": "code",
   "execution_count": 93,
   "id": "54dc3dd6-e504-40e7-9537-8a2fe4edc72d",
   "metadata": {
    "tags": []
   },
   "outputs": [
    {
     "data": {
      "text/html": [
       "'2020'"
      ],
      "text/latex": [
       "'2020'"
      ],
      "text/markdown": [
       "'2020'"
      ],
      "text/plain": [
       "[1] \"2020\""
      ]
     },
     "metadata": {},
     "output_type": "display_data"
    }
   ],
   "source": [
    "as.character(2020)"
   ]
  },
  {
   "cell_type": "code",
   "execution_count": 92,
   "id": "f6567925-28f5-40eb-846e-b9de231e9d3c",
   "metadata": {
    "tags": []
   },
   "outputs": [
    {
     "data": {
      "text/html": [
       "2020"
      ],
      "text/latex": [
       "2020"
      ],
      "text/markdown": [
       "2020"
      ],
      "text/plain": [
       "[1] 2020"
      ]
     },
     "metadata": {},
     "output_type": "display_data"
    }
   ],
   "source": [
    "as.integer(as.character(2020))"
   ]
  },
  {
   "cell_type": "code",
   "execution_count": 94,
   "id": "f4335df7-874c-4b67-b175-6e714d7544be",
   "metadata": {
    "tags": []
   },
   "outputs": [
    {
     "data": {
      "text/html": [
       "42.78"
      ],
      "text/latex": [
       "42.78"
      ],
      "text/markdown": [
       "42.78"
      ],
      "text/plain": [
       "[1] 42.78"
      ]
     },
     "metadata": {},
     "output_type": "display_data"
    }
   ],
   "source": [
    "as.numeric(\"42.78\")"
   ]
  },
  {
   "cell_type": "code",
   "execution_count": 95,
   "id": "f3af8d11-d9a4-45c7-808e-828891ffc158",
   "metadata": {
    "tags": []
   },
   "outputs": [
    {
     "data": {
      "text/html": [
       "'42.78'"
      ],
      "text/latex": [
       "'42.78'"
      ],
      "text/markdown": [
       "'42.78'"
      ],
      "text/plain": [
       "[1] \"42.78\""
      ]
     },
     "metadata": {},
     "output_type": "display_data"
    }
   ],
   "source": [
    "as.character(42.78)"
   ]
  },
  {
   "cell_type": "markdown",
   "id": "d09e42b4-fe0f-4d60-bc21-14a2fffe383e",
   "metadata": {},
   "source": [
    "## Methods and Functions for Character and Numeric Variables in R\n",
    "\n",
    "Certainly, here's an extended table with descriptions for each function and method related to character and numeric variables in R:\n",
    "\n",
    "| Operation                          | Description                                        | Character Variables   | Numeric Variables    |\n",
    "|------------------------------------|----------------------------------------------------|-----------------------|-----------------------|\n",
    "| **Conversion**                     | Change variable type                              | `as.character()`: Convert to character | `as.numeric()`: Convert to numeric |\n",
    "| **Character Length**               | Determine string length                           | `nchar()`: Compute the number of characters in a string | -                     |\n",
    "| **Concatenation**                  | Combine strings                                   | `paste()`: Concatenate strings | -                     |\n",
    "| **Subsetting**                     | Extract part of a string                         | `substr()`: Extract substrings | -                     |\n",
    "| **Changing Case**                  | Convert to uppercase or lowercase                | `toupper()`, `tolower()`: Change case | -                   |\n",
    "| **Pattern Matching**               | Find patterns in strings                         | `grep()`: Match patterns in character vectors | -                     |\n",
    "| **Substitution**                   | Replace characters or patterns                    | `gsub()`: Global substitution in strings | -                     |\n",
    "| **Splitting**                      | Split strings into substrings                    | `strsplit()`: Split strings based on a delimiter | -                     |\n",
    "| **Trimming**                       | Remove leading/trailing whitespace                | `trimws()`: Trim leading/trailing whitespace | -                     |\n",
    "| **Sorting**                        | Sort character vectors                           | `sort()`: Sort character vectors | -                     |\n",
    "| **Unique Values**                  | Find unique values                                | `unique()`: Find unique elements in a vector | -                     |\n",
    "| **Frequency Count**                | Count occurrences of values                      | `table()`: Generate frequency tables | -                     |\n",
    "| **Regular Expressions**            | Pattern matching with regular expressions           | `grep()`, `grepl()`, `sub()`, `gsub()`, `regexpr()`, `regexec()`, `regmatches()`: Advanced pattern matching | - |\n",
    "| **String Manipulation (stringr)**  | Advanced string manipulation and pattern matching   | `stringr` package (e.g., `str_extract()`, `str_replace()`, `str_split()`, `str_sub()`, etc.): Enhanced string manipulation | - |\n",
    "| **String Conversion (sprintf)**   | Format and convert variables to strings            | `sprintf()`: Format strings | -                     |\n",
    "| **Character Encoding**             | Convert between different character encodings      | `iconv()`: Character encoding conversion | -                     |\n",
    "| **String Comparison**              | Compare strings                                   | `==`, `!=`, `grepl()`, etc.: String comparison | -                   |\n",
    "| **Character Vectorization**        | Perform operations on each character in a vector   | `sapply()`, `lapply()`, `vapply()`, etc.: Apply functions element-wise | -               |\n",
    "| **Date and Time Manipulation**     | Working with date and time data                   | `as.Date()`, `format()`, `difftime()`, etc.: Date and time operations | -               |\n",
    "| **Statistical Tests**              | Hypothesis testing and statistical analysis      | -                   | `t.test()`, `cor()`, `chisq.test()`, etc.: Statistical tests |\n",
    "| **Descriptive Statistics**         | Calculate summary statistics                      | -                   | `summary()`, `quantile()`, `range()`, etc.: Descriptive statistics |\n",
    "| **Data Transformation (dplyr)**    | Data manipulation using the `dplyr` package       | -                   | `mutate()`, `filter()`, `group_by()`, etc.: Data transformation |\n",
    "| **Data Aggregation (dplyr)**       | Aggregate data using the `dplyr` package         | -                   | `summarize()`, `count()`, `aggregate()`, etc.: Data aggregation |\n",
    "| **Data Reshaping (reshape2)**      | Reshape data frames                              | -                   | `melt()`, `dcast()`, etc.: Data reshaping |\n",
    "| **Time Series Analysis (xts)**     | Handling time series data                        | -                   | Time series functions (e.g., `period.apply()`): Time series analysis |\n",
    "| **Matrix Operations**              | Working with matrices                            | -                   | Matrix algebra, eigenvalues, etc.: Matrix operations |\n",
    "| **Plotting (base and ggplot2)**    | Data visualization                               | -                   | Plotting functions (e.g., `plot()`, `ggplot()`, etc.): Data visualization |\n",
    "| **File I/O**                       | Reading and writing data files                   | `read.table()`, `write.table()`, etc.: File I/O | `read.table()`, `write.table()`, etc.: File I/O |\n",
    "\n",
    "This table provides a comprehensive overview of functions and methods for working with character and numeric variables in R, along with brief descriptions of their purposes and functionalities."
   ]
  },
  {
   "cell_type": "code",
   "execution_count": null,
   "id": "f0439b09-bf3c-43cd-82e5-072cd516d545",
   "metadata": {},
   "outputs": [],
   "source": []
  }
 ],
 "metadata": {
  "kernelspec": {
   "display_name": "R",
   "language": "R",
   "name": "ir"
  },
  "language_info": {
   "codemirror_mode": "r",
   "file_extension": ".r",
   "mimetype": "text/x-r-source",
   "name": "R",
   "pygments_lexer": "r",
   "version": "3.6.1"
  }
 },
 "nbformat": 4,
 "nbformat_minor": 5
}
